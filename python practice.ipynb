{
 "cells": [
  {
   "cell_type": "markdown",
   "id": "64901f90",
   "metadata": {},
   "source": [
    "# Odd or Even"
   ]
  },
  {
   "cell_type": "code",
   "execution_count": null,
   "id": "1433b8d4",
   "metadata": {},
   "outputs": [],
   "source": [
    "n=int(input(\"Enter number:\"))\n",
    "if n%2==0:\n",
    "    print(\"Even\")\n",
    "else:\n",
    "    print(\"Odd\")"
   ]
  },
  {
   "cell_type": "markdown",
   "id": "3a47d111",
   "metadata": {},
   "source": [
    "# Greatest no."
   ]
  },
  {
   "cell_type": "code",
   "execution_count": null,
   "id": "ddbef63c",
   "metadata": {},
   "outputs": [],
   "source": [
    "num1=int(input(\"Enter number1:\"))\n",
    "num2=int(input(\"Enter number2:\"))\n",
    "num3=int(input(\"Enter number3:\"))\n",
    "if num1>num2:\n",
    "    if num1>num3:\n",
    "        print(\"num1 is greater\")\n",
    "elif num2>num3:\n",
    "    print(\"num2 is* greater\")\n",
    "else:\n",
    "    print(\"num3 is greater\")"
   ]
  },
  {
   "cell_type": "markdown",
   "id": "2fa6b383",
   "metadata": {},
   "source": [
    "# Square or Rectangle"
   ]
  },
  {
   "cell_type": "code",
   "execution_count": 26,
   "id": "5f1880cb",
   "metadata": {},
   "outputs": [
    {
     "name": "stdout",
     "output_type": "stream",
     "text": [
      "Enter first side: 2\n",
      "Enter second side: 3\n",
      "rectangle\n"
     ]
    }
   ],
   "source": [
    "side1= int(input(\"Enter first side: \"))\n",
    "side2 = int(input(\"Enter second side: \"))\n",
    "if(side1==side2):\n",
    "    print(\"it is square\")\n",
    "else:\n",
    "    print(\"rectangle\")"
   ]
  },
  {
   "cell_type": "markdown",
   "id": "7de53e33",
   "metadata": {},
   "source": [
    "# MSEB Bill"
   ]
  },
  {
   "cell_type": "code",
   "execution_count": 32,
   "id": "ada000f6",
   "metadata": {},
   "outputs": [
    {
     "name": "stdout",
     "output_type": "stream",
     "text": [
      "enter units: 210\n",
      "bill is:  800\n"
     ]
    }
   ],
   "source": [
    "units = int(input(\"enter units: \"))\n",
    "\n",
    "if units<100:\n",
    "    bill = units *2\n",
    "    print(\"bill is:\",str(bill))\n",
    "elif 100<units<200:\n",
    "    unit100=units-100\n",
    "    bill=(unit100*5) +200\n",
    "    print(\"bill is: \",str(bill))\n",
    "else:\n",
    "    unit200=units-200\n",
    "    bill=(unit200*10)+500+200\n",
    "    print(\"bill is: \",str(bill))\n",
    "        \n",
    "        \n",
    "        \n",
    "        "
   ]
  },
  {
   "cell_type": "markdown",
   "id": "d380b276",
   "metadata": {},
   "source": [
    "# Dice roll"
   ]
  },
  {
   "cell_type": "code",
   "execution_count": null,
   "id": "ba6c7981",
   "metadata": {},
   "outputs": [
    {
     "name": "stdout",
     "output_type": "stream",
     "text": [
      "You want to roll dice: Yes(y)/No(n): \n",
      "y\n",
      "Rolling dice....\n",
      "\t\t 1\n"
     ]
    }
   ],
   "source": [
    "\n",
    "import random\n",
    "\n",
    "char=str(input(\"You want to roll dice: Yes(y)/No(n): \\n\"))\n",
    "while(char==\"y\"):\n",
    "    \n",
    "    n=random.randint(1,6)\n",
    "    print(\"Rolling dice....\")\n",
    "    print(\"\\t\\t\",n)\n",
    "    char1=str(input(\"Want to roll it again Yes(y)/No(n): \"))\n",
    "    if char1==\"n\":\n",
    "        break"
   ]
  },
  {
   "cell_type": "markdown",
   "id": "8a3dd251",
   "metadata": {},
   "source": [
    "# Guesssing number"
   ]
  },
  {
   "cell_type": "code",
   "execution_count": 6,
   "id": "d7be5f0c",
   "metadata": {},
   "outputs": [
    {
     "name": "stdout",
     "output_type": "stream",
     "text": [
      "your no.2\n",
      "guessed right\n"
     ]
    }
   ],
   "source": [
    "\n",
    "n=random.randrange(1,3)\n",
    "y=int(input(\"your no.\"))\n",
    "if(n==y):\n",
    "    print(\"guessed right\")\n",
    "else:\n",
    "    print(\"fail\")"
   ]
  },
  {
   "cell_type": "markdown",
   "id": "3fce4d09",
   "metadata": {},
   "source": [
    "# Password generator"
   ]
  },
  {
   "cell_type": "code",
   "execution_count": null,
   "id": "8ab5cc23",
   "metadata": {},
   "outputs": [],
   "source": [
    "#At least 8 characters—the more characters, the better.\n",
    "#A mixture of both uppercase and lowercase letters.\n",
    "#A mixture of letters and numbers.\n",
    "#Inclusion of at least one special character, e.g., ! @ # ? ]\n"
   ]
  },
  {
   "cell_type": "code",
   "execution_count": 68,
   "id": "27a4251e",
   "metadata": {},
   "outputs": [
    {
     "name": "stdout",
     "output_type": "stream",
     "text": [
      "b~S9aau8CA1F\n"
     ]
    }
   ],
   "source": [
    "import random\n",
    "\n",
    "strs1=['a','b','c','d','e','f','g','h','i','j','k','l','m','n','o','p','q','r','s','t','u','v','w','x','y','z']\n",
    "strs2=['!','@','#','$','%','^','&','*','(',')','~']\n",
    "strs3=['A','B','C','D','E','F','G','H','I','J','K','L','M','N','O','P','Q','R','S','T','U','V','W','X','Y','Z']\n",
    "strs4=['1','2','3','4','5','6','7','8','9']\n",
    "\n",
    "combine=strs1+strs2+strs3+strs4 \n",
    "\n",
    "char1=random.choice(strs1)\n",
    "char2=random.choice(strs2)\n",
    "char3=random.choice(strs3)\n",
    "char4=random.choice(strs4)\n",
    "\n",
    "first_4=str(char1)+str(char2)+str(char3)+str(char4)\n",
    "\n",
    "last_4=''\n",
    "middle_4=''\n",
    "\n",
    "for i in range(4):\n",
    "    rand_char=random.choice(strs1+strs4)\n",
    "    middle_4=middle_4+rand_char\n",
    "\n",
    "for i in range(4):\n",
    "    rand_char=random.choice(combine)\n",
    "    last_4=last_4+rand_char\n",
    "\n",
    "print(first_4+middle_4+last_4)\n"
   ]
  },
  {
   "cell_type": "code",
   "execution_count": null,
   "id": "da523694",
   "metadata": {},
   "outputs": [],
   "source": []
  },
  {
   "cell_type": "code",
   "execution_count": null,
   "id": "8bc57068",
   "metadata": {},
   "outputs": [],
   "source": []
  }
 ],
 "metadata": {
  "kernelspec": {
   "display_name": "Python 3",
   "language": "python",
   "name": "python3"
  },
  "language_info": {
   "codemirror_mode": {
    "name": "ipython",
    "version": 3
   },
   "file_extension": ".py",
   "mimetype": "text/x-python",
   "name": "python",
   "nbconvert_exporter": "python",
   "pygments_lexer": "ipython3",
   "version": "3.8.8"
  }
 },
 "nbformat": 4,
 "nbformat_minor": 5
}
