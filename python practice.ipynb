{
 "cells": [
  {
   "cell_type": "code",
   "execution_count": null,
   "id": "4097ca5b",
   "metadata": {},
   "outputs": [],
   "source": [
    "n=int(input(\"Enter number:\"))\n",
    "if n%2==0:\n",
    "    print(\"Even\")\n",
    "else:\n",
    "    print(\"Odd\")"
   ]
  },
  {
   "cell_type": "code",
   "execution_count": 23,
   "id": "827a18cc",
   "metadata": {},
   "outputs": [
    {
     "name": "stdout",
     "output_type": "stream",
     "text": [
      "Enter number1:3\n",
      "Enter number2:5\n",
      "Enter number3:777\n",
      "num3 is greater\n"
     ]
    }
   ],
   "source": [
    "num1=int(input(\"Enter number1:\"))\n",
    "num2=int(input(\"Enter number2:\"))\n",
    "num3=int(input(\"Enter number3:\"))\n",
    "if num1>num2:\n",
    "    if num1>num3:\n",
    "        print(\"num1 is greater\")\n",
    "elif num2>num3:\n",
    "    print(\"num2 is* greater\")\n",
    "else:\n",
    "    print(\"num3 is greater\")"
   ]
  },
  {
   "cell_type": "code",
   "execution_count": 26,
   "id": "5f1880cb",
   "metadata": {},
   "outputs": [
    {
     "name": "stdout",
     "output_type": "stream",
     "text": [
      "Enter first side: 2\n",
      "Enter second side: 3\n",
      "rectangle\n"
     ]
    }
   ],
   "source": [
    "side1= int(input(\"Enter first side: \"))\n",
    "side2 = int(input(\"Enter second side: \"))\n",
    "if(side1==side2):\n",
    "    print(\"it is square\")\n",
    "else:\n",
    "    print(\"rectangle\")"
   ]
  },
  {
   "cell_type": "code",
   "execution_count": 32,
   "id": "ada000f6",
   "metadata": {},
   "outputs": [
    {
     "name": "stdout",
     "output_type": "stream",
     "text": [
      "enter units: 210\n",
      "bill is:  800\n"
     ]
    }
   ],
   "source": [
    "units = int(input(\"enter units: \"))\n",
    "\n",
    "if units<100:\n",
    "    bill = units *2\n",
    "    print(\"bill is:\",str(bill))\n",
    "elif 100<units<200:\n",
    "    unit100=units-100\n",
    "    bill=(unit100*5) +200\n",
    "    print(\"bill is: \",str(bill))\n",
    "else:\n",
    "    unit200=units-200\n",
    "    bill=(unit200*10)+500+200\n",
    "    print(\"bill is: \",str(bill))\n",
    "        \n",
    "        \n",
    "        \n",
    "        "
   ]
  },
  {
   "cell_type": "code",
   "execution_count": 35,
   "id": "2afb38e2",
   "metadata": {},
   "outputs": [],
   "source": []
  },
  {
   "cell_type": "code",
   "execution_count": null,
   "id": "ba6c7981",
   "metadata": {},
   "outputs": [
    {
     "name": "stdout",
     "output_type": "stream",
     "text": [
      "You want to roll dice: Yes(y)/No(n): \n",
      "y\n",
      "Rolling dice....\n",
      "\t\t 1\n"
     ]
    }
   ],
   "source": [
    "#Dice roll\n",
    "import random\n",
    "\n",
    "char=str(input(\"You want to roll dice: Yes(y)/No(n): \\n\"))\n",
    "while(char==\"y\"):\n",
    "    \n",
    "    n=random.randint(1,6)\n",
    "    print(\"Rolling dice....\")\n",
    "    print(\"\\t\\t\",n)\n",
    "    char1=str(input(\"Want to roll it again Yes(y)/No(n): \"))\n",
    "    if char1==\"n\":\n",
    "        break"
   ]
  },
  {
   "cell_type": "code",
   "execution_count": 6,
   "id": "d7be5f0c",
   "metadata": {},
   "outputs": [
    {
     "name": "stdout",
     "output_type": "stream",
     "text": [
      "your no.2\n",
      "guessed right\n"
     ]
    }
   ],
   "source": [
    "#guesssing number\n",
    "n=random.randrange(1,3)\n",
    "y=int(input(\"your no.\"))\n",
    "if(n==y):\n",
    "    print(\"guessed right\")\n",
    "else:\n",
    "    print(\"fail\")"
   ]
  },
  {
   "cell_type": "code",
   "execution_count": null,
   "id": "27a4251e",
   "metadata": {},
   "outputs": [],
   "source": []
  }
 ],
 "metadata": {
  "kernelspec": {
   "display_name": "Python 3",
   "language": "python",
   "name": "python3"
  },
  "language_info": {
   "codemirror_mode": {
    "name": "ipython",
    "version": 3
   },
   "file_extension": ".py",
   "mimetype": "text/x-python",
   "name": "python",
   "nbconvert_exporter": "python",
   "pygments_lexer": "ipython3",
   "version": "3.8.8"
  }
 },
 "nbformat": 4,
 "nbformat_minor": 5
}
